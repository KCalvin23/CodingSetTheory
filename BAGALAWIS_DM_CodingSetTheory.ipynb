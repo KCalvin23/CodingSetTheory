{
  "nbformat": 4,
  "nbformat_minor": 0,
  "metadata": {
    "kernelspec": {
      "display_name": "Python 3",
      "language": "python",
      "name": "python3"
    },
    "language_info": {
      "codemirror_mode": {
        "name": "ipython",
        "version": 3
      },
      "file_extension": ".py",
      "mimetype": "text/x-python",
      "name": "python",
      "nbconvert_exporter": "python",
      "pygments_lexer": "ipython3",
      "version": "3.8.3"
    },
    "colab": {
      "name": "BAGALAWIS_DM_CodingSetTheory.ipynb",
      "provenance": [],
      "toc_visible": true
    }
  },
  "cells": [
    {
      "cell_type": "markdown",
      "metadata": {
        "id": "2nDSM_fraIKe"
      },
      "source": [
        "*BAGALAWIS, KRISTOPER CALVIN M.* <br>\n",
        "*58006* <br>\n",
        "*Engr. Dylan Lopez* <br>"
      ]
    },
    {
      "cell_type": "markdown",
      "metadata": {
        "id": "0UUGfcg8aIKf"
      },
      "source": [
        "# Set Theory"
      ]
    },
    {
      "cell_type": "markdown",
      "metadata": {
        "id": "mp13uVyraIKf"
      },
      "source": [
        "This code activity will try to guide you in applying the concepts, methods, and rules of Set Theory through code. We will go through with the data types in which Set Theory can be applied, how to write them in equation form im $\\LaTeX$, and then we will try to look at a practical example through a user's requirement."
      ]
    },
    {
      "cell_type": "markdown",
      "metadata": {
        "id": "KATd4EC1aIKf"
      },
      "source": [
        "### Lists"
      ]
    },
    {
      "cell_type": "markdown",
      "metadata": {
        "id": "p97RYYFOaIKf"
      },
      "source": [
        "In Python,  the most common iterable collection are lists. In lists, elements are ordered and chageable. Lists are denoted by enclosing objects with square brackets $[ ... ]$. Lists can be accessed through their indices, negative indexing is permitted."
      ]
    },
    {
      "cell_type": "code",
      "metadata": {
        "id": "ap7q1JTmaIKf"
      },
      "source": [
        "### Declaration\n",
        "employees = ['John', 'Alex', 'Winston', 'Bob', 'Golbi'] ## Best practice when making a list of objects, list variable names should be in plural form "
      ],
      "execution_count": null,
      "outputs": []
    },
    {
      "cell_type": "code",
      "metadata": {
        "id": "jYQkxczOaIKf",
        "outputId": "5e178798-5523-4a09-a759-9c972038a993"
      },
      "source": [
        "### Single Access\n",
        "employees[1]"
      ],
      "execution_count": null,
      "outputs": [
        {
          "output_type": "execute_result",
          "data": {
            "text/plain": [
              "'Alex'"
            ]
          },
          "metadata": {
            "tags": []
          },
          "execution_count": 2
        }
      ]
    },
    {
      "cell_type": "code",
      "metadata": {
        "id": "huD-l3ElaIKh",
        "outputId": "c12c70ac-da48-46c6-bb10-ef38fa8defca"
      },
      "source": [
        "### Multiple Access\n",
        "employees[0:3:1]"
      ],
      "execution_count": null,
      "outputs": [
        {
          "output_type": "execute_result",
          "data": {
            "text/plain": [
              "['John', 'Alex', 'Winston']"
            ]
          },
          "metadata": {
            "tags": []
          },
          "execution_count": 3
        }
      ]
    },
    {
      "cell_type": "code",
      "metadata": {
        "id": "w3aGohcqaIKh",
        "outputId": "232aecb5-b4ab-4e5f-b21f-e44e453b205f"
      },
      "source": [
        "### Multiple Access via Loops\n",
        "for employee in employees: ## To make coding a bit more intuitive, we use the singular form of the list variable name to denote its elements.\n",
        "    print(employee)"
      ],
      "execution_count": null,
      "outputs": [
        {
          "output_type": "stream",
          "text": [
            "John\n",
            "Alex\n",
            "Winston\n",
            "Bob\n",
            "Golbi\n"
          ],
          "name": "stdout"
        }
      ]
    },
    {
      "cell_type": "code",
      "metadata": {
        "id": "gOr4hPOuaIKh",
        "outputId": "5e08f188-5a35-4979-8100-aa771da44963"
      },
      "source": [
        "### Multiple Access via Loops\n",
        "for i in range(len(employees)): ## You could also use indices for iterations.\n",
        "    if(i%2 == 0):\n",
        "        print(employees[i])"
      ],
      "execution_count": null,
      "outputs": [
        {
          "output_type": "stream",
          "text": [
            "John\n",
            "Winston\n",
            "Golbi\n"
          ],
          "name": "stdout"
        }
      ]
    },
    {
      "cell_type": "code",
      "metadata": {
        "id": "5weQF1dYaIKi"
      },
      "source": [
        "### Modifying Elements\n",
        "\n"
      ],
      "execution_count": null,
      "outputs": []
    },
    {
      "cell_type": "code",
      "metadata": {
        "id": "gspZUECUaIKi",
        "outputId": "9225f141-66b3-47b5-f765-13f80381c88d"
      },
      "source": [
        "### Adding Elements\n",
        "### employees = ['John', 'Alex', 'Winston', 'Bob', 'Golbi']\n",
        "employees.append(\"Dorothy\")\n",
        "\n",
        "employees.insert(2, \"Ozai\")\n",
        "\n",
        "###print(employees)"
      ],
      "execution_count": null,
      "outputs": [
        {
          "output_type": "stream",
          "text": [
            "['John', 'Alex', 'Ozai', 'Winston', 'Bob', 'Golbi', 'Dorothy']\n"
          ],
          "name": "stdout"
        }
      ]
    },
    {
      "cell_type": "code",
      "metadata": {
        "id": "FkAyPxPUaIKi",
        "outputId": "a55debea-31e5-4ea0-db56-c10b74d87f24"
      },
      "source": [
        "### Removing Elements\n",
        "employees.pop() \n",
        "\n",
        "employees.remove(\"Ozai\")\n",
        "\n",
        "del employees[-1]\n",
        "\n",
        "employees.clear()\n",
        "\n",
        "print(employees)"
      ],
      "execution_count": null,
      "outputs": [
        {
          "output_type": "stream",
          "text": [
            "[]\n"
          ],
          "name": "stdout"
        }
      ]
    },
    {
      "cell_type": "markdown",
      "metadata": {
        "id": "qT4DbXJ2aIKi"
      },
      "source": [
        "### Tuples"
      ]
    },
    {
      "cell_type": "markdown",
      "metadata": {
        "id": "U6HylhYlaIKi"
      },
      "source": [
        "Tuples are another collection data type in Python. There are several key differences between lists and tuples:\n",
        "- Tuples are ordered collections, so order cannot be rearranged or modified.\n",
        "- Since tuples are ordered collections $(a, b) \\neq (b, a)$\n",
        "- They are declared and denoted using parentheses $( ...)$"
      ]
    },
    {
      "cell_type": "code",
      "metadata": {
        "id": "I_UDQXQgaIKi"
      },
      "source": [
        "### Declaration\n",
        "img1_colors = (255, 0 , 0)  ## In image processing, this is called a tuple consisting of channels. \n",
        "                            ##It is structured as (Red, Green, Blue) such that the values in each channe; ranges from 0 - 255 \n",
        "img2_colors = (64, 128, 111)"
      ],
      "execution_count": null,
      "outputs": []
    },
    {
      "cell_type": "code",
      "metadata": {
        "id": "Nj75SWScaIKi"
      },
      "source": [
        "### Single Access\n",
        "red = img1_colors[1]"
      ],
      "execution_count": null,
      "outputs": []
    },
    {
      "cell_type": "code",
      "metadata": {
        "id": "th6h_3KCaIKi"
      },
      "source": [
        "### Multiple Access\n",
        "employees[0:2:1]"
      ],
      "execution_count": null,
      "outputs": []
    },
    {
      "cell_type": "code",
      "metadata": {
        "id": "_zeIcSksaIKi"
      },
      "source": [
        "### Multiple Access via Loops\n",
        "for color in img_colors:\n",
        "    print(color)"
      ],
      "execution_count": null,
      "outputs": []
    },
    {
      "cell_type": "code",
      "metadata": {
        "id": "Cvw6l4zHaIKi",
        "outputId": "73cdfec2-3efb-4cd0-f304-964dbd77793f"
      },
      "source": [
        "car_xpos = (3, 5, 12, 15)\n",
        "car_ypos = (0, 1, 5, 2)\n",
        "### Multiple Access via Parallel Iteration\n",
        "for pos in zip(car_xpos, car_ypos):\n",
        "    print(f'Coordinates of cars in ordered pair form: {pos}')"
      ],
      "execution_count": null,
      "outputs": [
        {
          "output_type": "stream",
          "text": [
            "Coordinates of cars in ordered pair form: (3, 0)\n",
            "Coordinates of cars in ordered pair form: (5, 1)\n",
            "Coordinates of cars in ordered pair form: (12, 5)\n",
            "Coordinates of cars in ordered pair form: (15, 2)\n"
          ],
          "name": "stdout"
        }
      ]
    },
    {
      "cell_type": "code",
      "metadata": {
        "id": "IQUEelizaIKi",
        "outputId": "a2471cde-02cb-4489-d040-116cf02e1572"
      },
      "source": [
        "### Modifying Elements\n",
        "car_xpos = (3, 5, 12, 15)\n",
        "car_xpos[0] \n"
      ],
      "execution_count": null,
      "outputs": [
        {
          "output_type": "execute_result",
          "data": {
            "text/plain": [
              "3"
            ]
          },
          "metadata": {
            "tags": []
          },
          "execution_count": 62
        }
      ]
    },
    {
      "cell_type": "code",
      "metadata": {
        "id": "b2BQX5kJaIKi"
      },
      "source": [
        "### Removing Elements\n",
        "\n",
        "del img1_colors(0)\n"
      ],
      "execution_count": null,
      "outputs": []
    },
    {
      "cell_type": "code",
      "metadata": {
        "id": "ciFaaft4aIKi"
      },
      "source": [
        "### Merging Tuples\n",
        "car_pos = car_xpos + car_ypos\n"
      ],
      "execution_count": null,
      "outputs": []
    },
    {
      "cell_type": "markdown",
      "metadata": {
        "id": "dpMZwjN-aIKi"
      },
      "source": [
        "### Sets"
      ]
    },
    {
      "cell_type": "markdown",
      "metadata": {
        "id": "fhBQ0Ge9aIKi"
      },
      "source": [
        "Sets are collections which are unordered and unindexed. Repititions are not allowed in set structures and they are denoted by curly brackets $\\{ ... \\}$."
      ]
    },
    {
      "cell_type": "code",
      "metadata": {
        "id": "Iy0S1ZyjaIKi"
      },
      "source": [
        "### Declaration\n",
        "bakery_A = {'bread', 'cracker', 'croissant', 'eclair', 'parfait','cannele', 'coffee','tea'}\n",
        "bakery_B = {'bread', 'croissant', 'donuts', 'cinnamon roll', 'cookies','coffee','tea'}"
      ],
      "execution_count": null,
      "outputs": []
    },
    {
      "cell_type": "code",
      "metadata": {
        "id": "LKRUili5aIKi",
        "outputId": "af803783-6a01-41f2-ebd7-4702eaeaf603"
      },
      "source": [
        "### Accessing Elements\n",
        "bakery_A[0]"
      ],
      "execution_count": null,
      "outputs": [
        {
          "output_type": "error",
          "ename": "TypeError",
          "evalue": "'set' object is not subscriptable",
          "traceback": [
            "\u001b[1;31m---------------------------------------------------------------------------\u001b[0m",
            "\u001b[1;31mTypeError\u001b[0m                                 Traceback (most recent call last)",
            "\u001b[1;32m<ipython-input-96-f0826fdf6907>\u001b[0m in \u001b[0;36m<module>\u001b[1;34m\u001b[0m\n\u001b[0;32m      1\u001b[0m \u001b[1;31m### Accessing Elements\u001b[0m\u001b[1;33m\u001b[0m\u001b[1;33m\u001b[0m\u001b[1;33m\u001b[0m\u001b[0m\n\u001b[1;32m----> 2\u001b[1;33m \u001b[0mbakery_A\u001b[0m\u001b[1;33m[\u001b[0m\u001b[1;36m0\u001b[0m\u001b[1;33m]\u001b[0m\u001b[1;33m\u001b[0m\u001b[1;33m\u001b[0m\u001b[0m\n\u001b[0m",
            "\u001b[1;31mTypeError\u001b[0m: 'set' object is not subscriptable"
          ]
        }
      ]
    },
    {
      "cell_type": "code",
      "metadata": {
        "id": "JHI4PEyYaIKj",
        "outputId": "a663a3f2-e3f9-4e92-ac1a-1888cb6bc583"
      },
      "source": [
        "### Multiple Access via Loops\n",
        "for product in bakery_A:\n",
        "    print(product)"
      ],
      "execution_count": null,
      "outputs": [
        {
          "output_type": "stream",
          "text": [
            "cannele\n",
            "eclair\n",
            "coffee\n",
            "croissant\n",
            "cracker\n",
            "bread\n",
            "parfait\n",
            "tea\n"
          ],
          "name": "stdout"
        }
      ]
    },
    {
      "cell_type": "code",
      "metadata": {
        "id": "VJChz9WvaIKj"
      },
      "source": [
        "### Removing an Element\n",
        "\n",
        "bakery_A.remove('cannele')"
      ],
      "execution_count": null,
      "outputs": []
    },
    {
      "cell_type": "code",
      "metadata": {
        "id": "xVCu6VPKaIKj",
        "outputId": "b14d55d1-cda5-4c87-c4c0-b975b3d2fec6"
      },
      "source": [
        "### Membership\n",
        "'coffee' in bakery_A\n",
        "### Subsets\n",
        "order = {'coffee', 'cinnamon roll'}\n",
        "order.issubset(bakery_A)"
      ],
      "execution_count": null,
      "outputs": [
        {
          "output_type": "execute_result",
          "data": {
            "text/plain": [
              "True"
            ]
          },
          "metadata": {
            "tags": []
          },
          "execution_count": 10
        }
      ]
    },
    {
      "cell_type": "code",
      "metadata": {
        "id": "W0DURuadaIKj",
        "outputId": "cc7962a6-4213-4163-fe46-b10717e34ed8"
      },
      "source": [
        "### Union\n",
        "baker_st = bakery_A.union(bakery_B)\n",
        "baker_st"
      ],
      "execution_count": null,
      "outputs": [
        {
          "output_type": "execute_result",
          "data": {
            "text/plain": [
              "{'bread',\n",
              " 'cannele',\n",
              " 'cinnamon roll',\n",
              " 'coffee',\n",
              " 'cookies',\n",
              " 'cracker',\n",
              " 'croissant',\n",
              " 'donuts',\n",
              " 'eclair',\n",
              " 'parfait',\n",
              " 'tea'}"
            ]
          },
          "metadata": {
            "tags": []
          },
          "execution_count": 13
        }
      ]
    },
    {
      "cell_type": "code",
      "metadata": {
        "id": "D0sXnnqVaIKj",
        "outputId": "af81a0d6-16e7-4897-f75c-ebb13a787371"
      },
      "source": [
        "### Intersection\n",
        "bakery_A.intersection(bakery_B)"
      ],
      "execution_count": null,
      "outputs": [
        {
          "output_type": "execute_result",
          "data": {
            "text/plain": [
              "{'bread', 'coffee', 'croissant', 'tea'}"
            ]
          },
          "metadata": {
            "tags": []
          },
          "execution_count": 15
        }
      ]
    },
    {
      "cell_type": "code",
      "metadata": {
        "id": "M4ETf-DhaIKj",
        "outputId": "11ced97a-c55c-46bc-b20a-e6567fbad0a5"
      },
      "source": [
        "### Difference\n",
        "bakery_A.difference(bakery_B)"
      ],
      "execution_count": null,
      "outputs": [
        {
          "output_type": "execute_result",
          "data": {
            "text/plain": [
              "{'cannele', 'cracker', 'eclair', 'parfait'}"
            ]
          },
          "metadata": {
            "tags": []
          },
          "execution_count": 16
        }
      ]
    },
    {
      "cell_type": "markdown",
      "metadata": {
        "id": "KfW-EsTAaIKj"
      },
      "source": [
        "### Dictionaries"
      ]
    },
    {
      "cell_type": "markdown",
      "metadata": {
        "id": "_hugJTujaIKj"
      },
      "source": [
        "Dictionaries are collections which is unordered, changeable like sets but are indexed. Like sets, they are denoted witn $\\{...\\}$ but objects are characterized by <b>keys</b> and described using <b>values</b>."
      ]
    },
    {
      "cell_type": "code",
      "metadata": {
        "id": "9E3fKOUUaIKj"
      },
      "source": [
        "### Declaration\n",
        "bakery_A_prices = {'bread' : 60, \n",
        "            'cracker': 15, \n",
        "            'croissant': 40, \n",
        "           }"
      ],
      "execution_count": null,
      "outputs": []
    },
    {
      "cell_type": "code",
      "metadata": {
        "id": "7S3C1hANaIKj",
        "outputId": "83e422e7-7ff5-420c-ee18-64c69eca453a"
      },
      "source": [
        "## Accessing\n",
        "bakery_A_prices['bread']"
      ],
      "execution_count": null,
      "outputs": [
        {
          "output_type": "execute_result",
          "data": {
            "text/plain": [
              "60"
            ]
          },
          "metadata": {
            "tags": []
          },
          "execution_count": 157
        }
      ]
    },
    {
      "cell_type": "code",
      "metadata": {
        "id": "u5Ja0EbxaIKj",
        "outputId": "3fadabb1-e54c-4ec8-8603-aea4957ce7e5"
      },
      "source": [
        "## Accessing via Loops\n",
        "for product in bakery_A_prices:\n",
        "    print(product)"
      ],
      "execution_count": null,
      "outputs": [
        {
          "output_type": "stream",
          "text": [
            "bread\n",
            "cracker\n",
            "croissant\n"
          ],
          "name": "stdout"
        }
      ]
    },
    {
      "cell_type": "code",
      "metadata": {
        "id": "EckCEzYYaIKk",
        "outputId": "14a705e9-2320-48d4-d067-51a2507dd981"
      },
      "source": [
        "for product in bakery_A_prices:\n",
        "    print(bakery_A_prices[product])"
      ],
      "execution_count": null,
      "outputs": [
        {
          "output_type": "stream",
          "text": [
            "60\n",
            "15\n",
            "40\n"
          ],
          "name": "stdout"
        }
      ]
    },
    {
      "cell_type": "code",
      "metadata": {
        "id": "hBSg1vj5aIKk",
        "outputId": "df65ba93-3cc8-4e5c-9f40-d3b8b069749b"
      },
      "source": [
        "for price in bakery_A_prices.values():\n",
        "    print(price)"
      ],
      "execution_count": null,
      "outputs": [
        {
          "output_type": "stream",
          "text": [
            "60\n",
            "15\n",
            "40\n"
          ],
          "name": "stdout"
        }
      ]
    },
    {
      "cell_type": "code",
      "metadata": {
        "id": "2RL3CShxaIKk",
        "outputId": "ddf5262f-30fe-4b4c-b27d-10517e5992f4"
      },
      "source": [
        "for product, price in bakery_A_prices.items():\n",
        "    print(product, price)"
      ],
      "execution_count": null,
      "outputs": [
        {
          "output_type": "stream",
          "text": [
            "bread 60\n",
            "cracker 15\n",
            "croissant 40\n"
          ],
          "name": "stdout"
        }
      ]
    },
    {
      "cell_type": "code",
      "metadata": {
        "id": "YDeA29FwaIKk"
      },
      "source": [
        "## Update / Modification\n",
        "bakery_A_prices['bread'] = 60*0.9"
      ],
      "execution_count": null,
      "outputs": []
    },
    {
      "cell_type": "code",
      "metadata": {
        "id": "kspuHiLGaIKk"
      },
      "source": [
        "## Adding Elements\n",
        "bakery_A_prices['coffee'] = 110"
      ],
      "execution_count": null,
      "outputs": []
    },
    {
      "cell_type": "code",
      "metadata": {
        "id": "ZlaY_sftaIKk",
        "outputId": "8493fd63-a40e-497f-b6b8-e2ff368911dd"
      },
      "source": [
        "## Removing Elements\n",
        "print(bakery_A_prices)\n",
        "print(bakery_A_prices.pop('cracker'))\n",
        "print(bakery_A_prices)"
      ],
      "execution_count": null,
      "outputs": [
        {
          "output_type": "stream",
          "text": [
            "{'bread': 60, 'cracker': 15, 'croissant': 40, 'coffee': 110}\n",
            "15\n",
            "{'bread': 60, 'croissant': 40, 'coffee': 110}\n"
          ],
          "name": "stdout"
        }
      ]
    },
    {
      "cell_type": "markdown",
      "metadata": {
        "id": "Btm91Mx3aIKk"
      },
      "source": [
        "## Dataset Operations"
      ]
    },
    {
      "cell_type": "markdown",
      "metadata": {
        "id": "D83J0NcOaIKk"
      },
      "source": [
        "For this section, we will use the sets below to pracitce some practical dataset operations."
      ]
    },
    {
      "cell_type": "code",
      "metadata": {
        "id": "Tod2J5DzaIKk"
      },
      "source": [
        "prime = [2,3,5,7,11,13,15,17,19,23]\n",
        "odd = [1,3,5,7,9,11,13,15,17,19,21, 23]"
      ],
      "execution_count": null,
      "outputs": []
    },
    {
      "cell_type": "markdown",
      "metadata": {
        "id": "yJWDwdSBaIKk"
      },
      "source": [
        "### Intersection / Similarities"
      ]
    },
    {
      "cell_type": "code",
      "metadata": {
        "id": "tykTAZAeaIKk",
        "outputId": "21877046-0895-42af-d631-1168cda7d4ce"
      },
      "source": [
        "for num in prime:\n",
        "    if num in odd:\n",
        "        print(num)"
      ],
      "execution_count": null,
      "outputs": [
        {
          "output_type": "stream",
          "text": [
            "3\n",
            "5\n",
            "7\n",
            "11\n",
            "13\n",
            "15\n",
            "17\n",
            "19\n",
            "23\n"
          ],
          "name": "stdout"
        }
      ]
    },
    {
      "cell_type": "code",
      "metadata": {
        "id": "TOLkVcLjaIKk",
        "outputId": "99409998-2f6c-4d62-920f-d19c069481ae"
      },
      "source": [
        "def intersection(list1, list2):\n",
        "    intersect = [num for num in list1 if num in list2]\n",
        "    return intersect\n",
        "print (num)"
      ],
      "execution_count": null,
      "outputs": [
        {
          "output_type": "stream",
          "text": [
            "23\n"
          ],
          "name": "stdout"
        }
      ]
    },
    {
      "cell_type": "code",
      "metadata": {
        "id": "snjN-dZyaIKk",
        "outputId": "995660f6-86c3-4f98-ac55-27886b00d663"
      },
      "source": [
        "prime_n_odd = intersection(prime, odd)\n",
        "prime_n_odd"
      ],
      "execution_count": null,
      "outputs": [
        {
          "output_type": "execute_result",
          "data": {
            "text/plain": [
              "[3, 5, 7, 11, 13, 15, 17, 19, 23]"
            ]
          },
          "metadata": {
            "tags": []
          },
          "execution_count": 219
        }
      ]
    },
    {
      "cell_type": "markdown",
      "metadata": {
        "id": "Ez7XVdZUaIKk"
      },
      "source": [
        "### Subtraction / Uniqueness"
      ]
    },
    {
      "cell_type": "code",
      "metadata": {
        "id": "1nX_bw18aIKk",
        "outputId": "c1df4b7d-76b2-429a-d8c9-ce95b27949ee"
      },
      "source": [
        "for num in prime:\n",
        "    if num not in odd:\n",
        "        print(num)"
      ],
      "execution_count": null,
      "outputs": [
        {
          "output_type": "stream",
          "text": [
            "2\n"
          ],
          "name": "stdout"
        }
      ]
    },
    {
      "cell_type": "code",
      "metadata": {
        "id": "JUCwXFNNaIKk"
      },
      "source": [
        "def subtraction(list1, list2):\n",
        "    less  =[num for num in list1 if num not in list2]\n",
        "    return less"
      ],
      "execution_count": null,
      "outputs": []
    },
    {
      "cell_type": "code",
      "metadata": {
        "id": "bLac3zqeaIKl",
        "outputId": "36237f53-cd34-4a5b-985d-a18fbf8baa4c"
      },
      "source": [
        "prime_less_odd = subtraction(prime, odd)\n",
        "prime_less_odd"
      ],
      "execution_count": null,
      "outputs": [
        {
          "output_type": "execute_result",
          "data": {
            "text/plain": [
              "[2]"
            ]
          },
          "metadata": {
            "tags": []
          },
          "execution_count": 222
        }
      ]
    },
    {
      "cell_type": "markdown",
      "metadata": {
        "id": "rHMibvYJaIKl"
      },
      "source": [
        "### Union / Merge"
      ]
    },
    {
      "cell_type": "code",
      "metadata": {
        "id": "navQKq2WaIKl",
        "outputId": "3a16cc8a-f446-4d1c-9cbe-294fca8edce5"
      },
      "source": [
        "union_repeat = prime + odd\n",
        "union_repeat.sort()\n",
        "union_repeat"
      ],
      "execution_count": null,
      "outputs": [
        {
          "output_type": "execute_result",
          "data": {
            "text/plain": [
              "[1, 2, 3, 3, 5, 5, 7, 7, 9, 11, 11, 13, 13, 15, 15, 17, 17, 19, 19, 21, 23, 23]"
            ]
          },
          "metadata": {
            "tags": []
          },
          "execution_count": 223
        }
      ]
    },
    {
      "cell_type": "code",
      "metadata": {
        "id": "1caKp9_XaIKl",
        "outputId": "672745f6-37c4-4663-eae9-949a7298ca3d"
      },
      "source": [
        "union_norepeat = intersection(prime, odd) + subtraction(prime, odd) + subtraction(odd, prime)\n",
        "union_norepeat.sort()\n",
        "union_norepeat"
      ],
      "execution_count": null,
      "outputs": [
        {
          "output_type": "execute_result",
          "data": {
            "text/plain": [
              "[1, 2, 3, 5, 7, 9, 11, 13, 15, 17, 19, 21, 23]"
            ]
          },
          "metadata": {
            "tags": []
          },
          "execution_count": 224
        }
      ]
    },
    {
      "cell_type": "code",
      "metadata": {
        "id": "5UxfjBRlaIKl",
        "outputId": "33899ea4-8a79-4df9-b56c-4295441ecb61"
      },
      "source": [
        "union_norepeat = list(set(prime).union(set(odd)))\n",
        "union_norepeat"
      ],
      "execution_count": null,
      "outputs": [
        {
          "output_type": "execute_result",
          "data": {
            "text/plain": [
              "[1, 2, 3, 5, 7, 9, 11, 13, 15, 17, 19, 21, 23]"
            ]
          },
          "metadata": {
            "tags": []
          },
          "execution_count": 225
        }
      ]
    },
    {
      "cell_type": "code",
      "metadata": {
        "id": "0MBl_JTUaIKl"
      },
      "source": [
        "def union(list1, list2, repetition=False):\n",
        "    if repetition:\n",
        "        pass\n",
        "    else:\n",
        "        pass\n",
        "    return None"
      ],
      "execution_count": null,
      "outputs": []
    },
    {
      "cell_type": "code",
      "metadata": {
        "id": "Y_RzXGE1aIKl",
        "outputId": "2de42ae4-1c4a-4b7b-85ac-959862549f4d"
      },
      "source": [
        "prime_u_odd = union(prime, odd)\n",
        "#print(prime_u_odd) "
      ],
      "execution_count": null,
      "outputs": [
        {
          "output_type": "stream",
          "text": [
            "None\n"
          ],
          "name": "stdout"
        }
      ]
    },
    {
      "cell_type": "markdown",
      "metadata": {
        "id": "tZLHHo5CaIKl"
      },
      "source": [
        "## Activities"
      ]
    },
    {
      "cell_type": "markdown",
      "metadata": {
        "id": "cRDCe2xRaIKl"
      },
      "source": [
        "### Lists"
      ]
    },
    {
      "cell_type": "code",
      "metadata": {
        "id": "WFibUTvjaIKl"
      },
      "source": [
        "### START YOUR CODE BELOW HERE ###\n",
        "#Lists\n",
        "GAMES = [\"Mobile Legends\", \"Call of Duty Mobile\", \"Valorant\", \"Dota 2\", \"Among Us\" ]"
      ],
      "execution_count": 3,
      "outputs": []
    },
    {
      "cell_type": "code",
      "metadata": {
        "colab": {
          "base_uri": "https://localhost:8080/",
          "height": 35
        },
        "id": "zXazPSIaaIKl",
        "outputId": "a57d9cfd-069e-4535-dcfa-20c518d07254"
      },
      "source": [
        "#Single Access\n",
        "GAMES [2]"
      ],
      "execution_count": 5,
      "outputs": [
        {
          "output_type": "execute_result",
          "data": {
            "application/vnd.google.colaboratory.intrinsic+json": {
              "type": "string"
            },
            "text/plain": [
              "'Valorant'"
            ]
          },
          "metadata": {
            "tags": []
          },
          "execution_count": 5
        }
      ]
    },
    {
      "cell_type": "code",
      "metadata": {
        "colab": {
          "base_uri": "https://localhost:8080/"
        },
        "id": "n2NXsyl7aIKl",
        "outputId": "573a10fa-503e-4362-bc8e-51b7351bdbff"
      },
      "source": [
        "#Multiple Access\n",
        "GAMES [0:1:2]"
      ],
      "execution_count": 8,
      "outputs": [
        {
          "output_type": "execute_result",
          "data": {
            "text/plain": [
              "['Mobile Legends']"
            ]
          },
          "metadata": {
            "tags": []
          },
          "execution_count": 8
        }
      ]
    },
    {
      "cell_type": "code",
      "metadata": {
        "colab": {
          "base_uri": "https://localhost:8080/"
        },
        "id": "GmzIzCiVaIKl",
        "outputId": "daab8283-d36d-492f-ca78-e41e8155457e"
      },
      "source": [
        "### Multiple Access (Loops)\n",
        "for games in GAMES:\n",
        "    print(games)"
      ],
      "execution_count": 9,
      "outputs": [
        {
          "output_type": "stream",
          "text": [
            "Mobile Legends\n",
            "Call of Duty Mobile\n",
            "Valorant\n",
            "Dota 2\n",
            "Among Us\n"
          ],
          "name": "stdout"
        }
      ]
    },
    {
      "cell_type": "code",
      "metadata": {
        "colab": {
          "base_uri": "https://localhost:8080/"
        },
        "id": "jFUmptxOaIKl",
        "outputId": "7d634732-dc10-42c1-e857-fc40492c087d"
      },
      "source": [
        "#Adding Elements\n",
        "GAMES = [\"Mobile Legends\", \"Call of Duty Mobile\", \"Valorant\", \"Dota 2\", \"Among Us\" ]\n",
        "GAMES.append(\"LoL\")\n",
        "print(GAMES)"
      ],
      "execution_count": 11,
      "outputs": [
        {
          "output_type": "stream",
          "text": [
            "['Mobile Legends', 'Call of Duty Mobile', 'Valorant', 'Dota 2', 'Among Us', 'LoL']\n"
          ],
          "name": "stdout"
        }
      ]
    },
    {
      "cell_type": "code",
      "metadata": {
        "colab": {
          "base_uri": "https://localhost:8080/"
        },
        "id": "XENTXNLqaIKm",
        "outputId": "eccaa52b-3ff7-4fd4-d449-87c9786cb79d"
      },
      "source": [
        "GAMES = [\"Mobile Legends\", \"Call of Duty Mobile\", \"Valorant\", \"Dota 2\", \"Among Us\" ]\n",
        "GAMES.insert(0, \"Wild Rift\")\n",
        "print(GAMES)"
      ],
      "execution_count": 14,
      "outputs": [
        {
          "output_type": "stream",
          "text": [
            "['Wild Rift', 'Mobile Legends', 'Call of Duty Mobile', 'Valorant', 'Dota 2', 'Among Us']\n"
          ],
          "name": "stdout"
        }
      ]
    },
    {
      "cell_type": "code",
      "metadata": {
        "colab": {
          "base_uri": "https://localhost:8080/",
          "height": 35
        },
        "id": "B45Kcl5ZaIKm",
        "outputId": "ae7ed0cc-c66b-4d3f-e201-dbbc6b44d6ae"
      },
      "source": [
        "### Removing Elements\n",
        "GAMES = [\"Mobile Legends\", \"Call of Duty Mobile\", \"Valorant\", \"Dota 2\", \"Among Us\" ]\n",
        "GAMES.pop(1) "
      ],
      "execution_count": 16,
      "outputs": [
        {
          "output_type": "execute_result",
          "data": {
            "application/vnd.google.colaboratory.intrinsic+json": {
              "type": "string"
            },
            "text/plain": [
              "'Call of Duty Mobile'"
            ]
          },
          "metadata": {
            "tags": []
          },
          "execution_count": 16
        }
      ]
    },
    {
      "cell_type": "code",
      "metadata": {
        "colab": {
          "base_uri": "https://localhost:8080/",
          "height": 35
        },
        "id": "ZtEEgsivaIKm",
        "outputId": "b5fd8188-8cc0-427a-f51c-1cd0803b6ab4"
      },
      "source": [
        "GAMES = [\"Mobile Legends\", \"Call of Duty Mobile\", \"Valorant\", \"Dota 2\", \"Among Us\" ]\n",
        "GAMES.pop(2) "
      ],
      "execution_count": 18,
      "outputs": [
        {
          "output_type": "execute_result",
          "data": {
            "application/vnd.google.colaboratory.intrinsic+json": {
              "type": "string"
            },
            "text/plain": [
              "'Valorant'"
            ]
          },
          "metadata": {
            "tags": []
          },
          "execution_count": 18
        }
      ]
    },
    {
      "cell_type": "code",
      "metadata": {
        "colab": {
          "base_uri": "https://localhost:8080/"
        },
        "id": "1VbDjntuaIKm",
        "outputId": "0f309c4e-801d-41b9-bc95-43d5aa957a32"
      },
      "source": [
        "GAMES = [\"Mobile Legends\", \"Call of Duty Mobile\", \"Valorant\", \"Dota 2\", \"Among Us\" ]\n",
        "GAMES.remove(\"Dota 2\")\n",
        "print(GAMES)"
      ],
      "execution_count": 19,
      "outputs": [
        {
          "output_type": "stream",
          "text": [
            "['Mobile Legends', 'Call of Duty Mobile', 'Valorant', 'Among Us']\n"
          ],
          "name": "stdout"
        }
      ]
    },
    {
      "cell_type": "code",
      "metadata": {
        "colab": {
          "base_uri": "https://localhost:8080/"
        },
        "id": "adKcK548aIKm",
        "outputId": "d8de5dc9-a921-4036-bf53-c126a05a0b7b"
      },
      "source": [
        "GAMES = [\"Mobile Legends\", \"Call of Duty Mobile\", \"Valorant\", \"Dota 2\", \"Among Us\" ]\n",
        "del GAMES [0]\n",
        "print(GAMES)"
      ],
      "execution_count": 23,
      "outputs": [
        {
          "output_type": "stream",
          "text": [
            "['Call of Duty Mobile', 'Valorant', 'Dota 2', 'Among Us']\n"
          ],
          "name": "stdout"
        }
      ]
    },
    {
      "cell_type": "code",
      "metadata": {
        "colab": {
          "base_uri": "https://localhost:8080/"
        },
        "id": "MCtEFDGeaIKm",
        "outputId": "6be1259d-b204-4efc-a234-74efe01a7ad3"
      },
      "source": [
        "GAMES = [\"Mobile Legends\", \"Call of Duty Mobile\", \"Valorant\", \"Dota 2\", \"Among Us\" ]\n",
        "GAMES.clear()\n",
        "print(GAMES)"
      ],
      "execution_count": 24,
      "outputs": [
        {
          "output_type": "stream",
          "text": [
            "[]\n"
          ],
          "name": "stdout"
        }
      ]
    },
    {
      "cell_type": "markdown",
      "metadata": {
        "id": "nEAi9p6GaIKm"
      },
      "source": [
        "### Tuples"
      ]
    },
    {
      "cell_type": "code",
      "metadata": {
        "id": "iVRrLkM0aIKm"
      },
      "source": [
        "### Declaration\n",
        "pix1_colors = (8, 0 , 16)  \n",
        "pix2_colors = (64, 128, 111)"
      ],
      "execution_count": 111,
      "outputs": []
    },
    {
      "cell_type": "code",
      "metadata": {
        "id": "ZZj4QGxxaIKm"
      },
      "source": [
        "### Single Access\n",
        "blue = pix1_colors[1]"
      ],
      "execution_count": 113,
      "outputs": []
    },
    {
      "cell_type": "code",
      "metadata": {
        "colab": {
          "base_uri": "https://localhost:8080/"
        },
        "id": "qeu_QBdMaIKn",
        "outputId": "c7ce7e18-fbe7-40d2-d829-ed5b7a556c3c"
      },
      "source": [
        "### Multiple Access via Loops\n",
        "for color in pix1_colors:\n",
        "    print(color)"
      ],
      "execution_count": 114,
      "outputs": [
        {
          "output_type": "stream",
          "text": [
            "8\n",
            "0\n",
            "16\n"
          ],
          "name": "stdout"
        }
      ]
    },
    {
      "cell_type": "code",
      "metadata": {
        "colab": {
          "base_uri": "https://localhost:8080/"
        },
        "id": "l7kC4RH_aIKn",
        "outputId": "26653988-d7fc-431c-ad42-10a515b6d09a"
      },
      "source": [
        "car_xpos = (2, 4, 6, 8)\n",
        "car_ypos = (1, 3, 5, 7)\n",
        "### Multiple Access via Parallel Iteration\n",
        "for pos in zip(car_xpos, car_ypos):\n",
        "    print(f'Coordinates of cars in ordered pair form: {pos}')"
      ],
      "execution_count": 115,
      "outputs": [
        {
          "output_type": "stream",
          "text": [
            "Coordinates of cars in ordered pair form: (2, 1)\n",
            "Coordinates of cars in ordered pair form: (4, 3)\n",
            "Coordinates of cars in ordered pair form: (6, 5)\n",
            "Coordinates of cars in ordered pair form: (8, 7)\n"
          ],
          "name": "stdout"
        }
      ]
    },
    {
      "cell_type": "code",
      "metadata": {
        "colab": {
          "base_uri": "https://localhost:8080/"
        },
        "id": "nGBuGcjVaIKn",
        "outputId": "8c3396b2-f5a5-4e58-cb5e-32a87212f452"
      },
      "source": [
        "for px_colors in zip(pix1_colors, pix2_colors):\n",
        "    print(px_colors)"
      ],
      "execution_count": 116,
      "outputs": [
        {
          "output_type": "stream",
          "text": [
            "(8, 64)\n",
            "(0, 128)\n",
            "(16, 111)\n"
          ],
          "name": "stdout"
        }
      ]
    },
    {
      "cell_type": "code",
      "metadata": {
        "colab": {
          "base_uri": "https://localhost:8080/"
        },
        "id": "wa1VeMgPaIKn",
        "outputId": "1357ee5e-14d5-4134-b578-70ff3aea1738"
      },
      "source": [
        "### Modifying Elements\n",
        "car_xpos = (2, 4, 6, 8)\n",
        "car_xpos[0]"
      ],
      "execution_count": 118,
      "outputs": [
        {
          "output_type": "execute_result",
          "data": {
            "text/plain": [
              "2"
            ]
          },
          "metadata": {
            "tags": []
          },
          "execution_count": 118
        }
      ]
    },
    {
      "cell_type": "code",
      "metadata": {
        "id": "MPhf1V2TaIKn"
      },
      "source": [
        "### Merging Tuples\n",
        "car_pos = car_xpos + car_ypos"
      ],
      "execution_count": 120,
      "outputs": []
    },
    {
      "cell_type": "markdown",
      "metadata": {
        "id": "6DKpS8aqaIKn"
      },
      "source": [
        "### Sets"
      ]
    },
    {
      "cell_type": "code",
      "metadata": {
        "id": "l2WAfZN5aIKn"
      },
      "source": [
        "#Sets\n",
        "mobile_games = {'Mobile Legends', 'Call of Duty Mobile', 'Among Us', 'Wild Rift', 'Genshin Impact'}\n",
        "computer_games = {'Call of Duty Warzone', 'Valorant', 'Ragnarok', 'Cabal', 'Ran Online', 'GTA V'}"
      ],
      "execution_count": 43,
      "outputs": []
    },
    {
      "cell_type": "code",
      "metadata": {
        "colab": {
          "base_uri": "https://localhost:8080/"
        },
        "id": "4Dobm17SaIKn",
        "outputId": "bf463346-50d6-4294-83dc-7df6d3749880"
      },
      "source": [
        "#Accessing Elements\n",
        "print(mobile_games) \n",
        "print(computer_games) "
      ],
      "execution_count": 44,
      "outputs": [
        {
          "output_type": "stream",
          "text": [
            "{'Among Us', 'Genshin Impact', 'Mobile Legends', 'Wild Rift', 'Call of Duty Mobile'}\n",
            "{'Ragnarok', 'Valorant', 'Cabal', 'GTA V', 'Call of Duty Warzone', 'Ran Online'}\n"
          ],
          "name": "stdout"
        }
      ]
    },
    {
      "cell_type": "code",
      "metadata": {
        "colab": {
          "base_uri": "https://localhost:8080/",
          "height": 35
        },
        "id": "ImgDvyo7aIKo",
        "outputId": "2dd392c5-27fd-45f1-f30f-00c5e7755f6a"
      },
      "source": [
        "MG = list(mobile_games)\n",
        "MG[2]"
      ],
      "execution_count": 48,
      "outputs": [
        {
          "output_type": "execute_result",
          "data": {
            "application/vnd.google.colaboratory.intrinsic+json": {
              "type": "string"
            },
            "text/plain": [
              "'Mobile Legends'"
            ]
          },
          "metadata": {
            "tags": []
          },
          "execution_count": 48
        }
      ]
    },
    {
      "cell_type": "code",
      "metadata": {
        "colab": {
          "base_uri": "https://localhost:8080/"
        },
        "id": "C8u-FVp8aIKo",
        "outputId": "65f6d93e-bd48-47d8-bd53-62320100d6c9"
      },
      "source": [
        "#Multiple Access via Loops\n",
        "for MG in mobile_games:\n",
        "    print(MG)"
      ],
      "execution_count": 49,
      "outputs": [
        {
          "output_type": "stream",
          "text": [
            "Among Us\n",
            "Genshin Impact\n",
            "Mobile Legends\n",
            "Wild Rift\n",
            "Call of Duty Mobile\n"
          ],
          "name": "stdout"
        }
      ]
    },
    {
      "cell_type": "code",
      "metadata": {
        "colab": {
          "base_uri": "https://localhost:8080/"
        },
        "id": "OQ4RpwYgaIKo",
        "outputId": "415cb014-bf44-4954-e085-2e28c0423748"
      },
      "source": [
        "#Removing an Element\n",
        "mobile_games.remove(\"Genshin Impact\")\n",
        "print(mobile_games)"
      ],
      "execution_count": 59,
      "outputs": [
        {
          "output_type": "stream",
          "text": [
            "{'Among Us', 'Mobile Legends', 'Wild Rift', 'Call of Duty Mobile'}\n"
          ],
          "name": "stdout"
        }
      ]
    },
    {
      "cell_type": "code",
      "metadata": {
        "colab": {
          "base_uri": "https://localhost:8080/"
        },
        "id": "hwCH1us5aIKo",
        "outputId": "f60e2715-04b2-44f5-bb99-43064d7a25e3"
      },
      "source": [
        "#Membership\n",
        "'Mobile Legends' in mobile_games\n",
        "### Subsets\n",
        "PlayersPlay = {'Call of Duty Mobile','Mobile Legends'}\n",
        "PlayersPlay.issubset(mobile_games)"
      ],
      "execution_count": 60,
      "outputs": [
        {
          "output_type": "execute_result",
          "data": {
            "text/plain": [
              "True"
            ]
          },
          "metadata": {
            "tags": []
          },
          "execution_count": 60
        }
      ]
    },
    {
      "cell_type": "code",
      "metadata": {
        "colab": {
          "base_uri": "https://localhost:8080/"
        },
        "id": "myey1TRraIKo",
        "outputId": "57b72fbb-7ade-4cba-9150-426ef5369b82"
      },
      "source": [
        "#Union\n",
        "games = mobile_games.union(computer_games)\n",
        "games"
      ],
      "execution_count": 61,
      "outputs": [
        {
          "output_type": "execute_result",
          "data": {
            "text/plain": [
              "{'Among Us',\n",
              " 'Cabal',\n",
              " 'Call of Duty Mobile',\n",
              " 'Call of Duty Warzone',\n",
              " 'GTA V',\n",
              " 'Mobile Legends',\n",
              " 'Ragnarok',\n",
              " 'Ran Online',\n",
              " 'Valorant',\n",
              " 'Wild Rift'}"
            ]
          },
          "metadata": {
            "tags": []
          },
          "execution_count": 61
        }
      ]
    },
    {
      "cell_type": "code",
      "metadata": {
        "colab": {
          "base_uri": "https://localhost:8080/"
        },
        "id": "z6dRKtlgaIKo",
        "outputId": "68e08743-5f0f-407a-e7ba-d61ea3941c70"
      },
      "source": [
        "#Intersection\n",
        "mobile_games.intersection(computer_games)"
      ],
      "execution_count": 67,
      "outputs": [
        {
          "output_type": "execute_result",
          "data": {
            "text/plain": [
              "set()"
            ]
          },
          "metadata": {
            "tags": []
          },
          "execution_count": 67
        }
      ]
    },
    {
      "cell_type": "code",
      "metadata": {
        "colab": {
          "base_uri": "https://localhost:8080/"
        },
        "id": "MEdScwjeaIKo",
        "outputId": "9717fe94-d7f1-41b3-d9ce-4caefd47243e"
      },
      "source": [
        "#Difference\n",
        "mobile_games.difference(mobile_games)"
      ],
      "execution_count": 66,
      "outputs": [
        {
          "output_type": "execute_result",
          "data": {
            "text/plain": [
              "set()"
            ]
          },
          "metadata": {
            "tags": []
          },
          "execution_count": 66
        }
      ]
    },
    {
      "cell_type": "markdown",
      "metadata": {
        "id": "5TeG-OUxaIKo"
      },
      "source": [
        "### Dictionaries"
      ]
    },
    {
      "cell_type": "code",
      "metadata": {
        "id": "ftQhYzRcaIKo"
      },
      "source": [
        "#Dictionary\n",
        "NamesAndAge = {'Marilou' : 42, \n",
        "         'Andrew': 41, \n",
        "         'Calvin': 20, \n",
        "        }"
      ],
      "execution_count": 73,
      "outputs": []
    },
    {
      "cell_type": "code",
      "metadata": {
        "colab": {
          "base_uri": "https://localhost:8080/"
        },
        "id": "IUtWmPILaIKo",
        "outputId": "818167fc-e621-4d46-b9e3-956dddb03657"
      },
      "source": [
        "#Accessing\n",
        "NamesAndAge['Calvin']"
      ],
      "execution_count": 75,
      "outputs": [
        {
          "output_type": "execute_result",
          "data": {
            "text/plain": [
              "20"
            ]
          },
          "metadata": {
            "tags": []
          },
          "execution_count": 75
        }
      ]
    },
    {
      "cell_type": "code",
      "metadata": {
        "colab": {
          "base_uri": "https://localhost:8080/"
        },
        "id": "G5JJVMb-aIKo",
        "outputId": "d01bf6a5-c902-4b6b-d050-03428b05e82c"
      },
      "source": [
        "## Accessing via Loops\n",
        "for Names in NamesAndAge:\n",
        "    print(Names)"
      ],
      "execution_count": 76,
      "outputs": [
        {
          "output_type": "stream",
          "text": [
            "Marilou\n",
            "Andrew\n",
            "Calvin\n"
          ],
          "name": "stdout"
        }
      ]
    },
    {
      "cell_type": "code",
      "metadata": {
        "colab": {
          "base_uri": "https://localhost:8080/"
        },
        "id": "w18Uj_T7aIKp",
        "outputId": "6203af65-1eea-46c4-cc6d-981eec490b9f"
      },
      "source": [
        "for Names in NamesAndAge:\n",
        "    print(NamesAndAge[Names])"
      ],
      "execution_count": 77,
      "outputs": [
        {
          "output_type": "stream",
          "text": [
            "42\n",
            "41\n",
            "20\n"
          ],
          "name": "stdout"
        }
      ]
    },
    {
      "cell_type": "code",
      "metadata": {
        "colab": {
          "base_uri": "https://localhost:8080/"
        },
        "id": "cYNOIQ0UaIKp",
        "outputId": "bf1cc8bb-567a-42ed-b8f5-0eb55b30b0ef"
      },
      "source": [
        "for edad in NamesAndAge.values():\n",
        "    print(edad)"
      ],
      "execution_count": 78,
      "outputs": [
        {
          "output_type": "stream",
          "text": [
            "42\n",
            "41\n",
            "20\n"
          ],
          "name": "stdout"
        }
      ]
    },
    {
      "cell_type": "code",
      "metadata": {
        "colab": {
          "base_uri": "https://localhost:8080/"
        },
        "id": "27SWYuo-aIKp",
        "outputId": "d5ec5c6d-644b-45be-88af-382716d1b9ff"
      },
      "source": [
        "for Names, edad in NamesAndAge.items():\n",
        "    print(Names, edad)"
      ],
      "execution_count": 81,
      "outputs": [
        {
          "output_type": "stream",
          "text": [
            "Marilou 42\n",
            "Andrew 41\n",
            "Calvin 20\n"
          ],
          "name": "stdout"
        }
      ]
    },
    {
      "cell_type": "markdown",
      "metadata": {
        "id": "quoDFLozaIKq"
      },
      "source": [
        "## Dataset Operations"
      ]
    },
    {
      "cell_type": "code",
      "metadata": {
        "id": "AYeBXzqlaIKq"
      },
      "source": [
        "even = [2,4,6,8,10,12,14,16,18,20]\n",
        "odd = [1,3,5,7,9,11,13,15,17,19]"
      ],
      "execution_count": 83,
      "outputs": []
    },
    {
      "cell_type": "code",
      "metadata": {
        "id": "PTCNX1PbaIKq"
      },
      "source": [
        "#Intersection/Similarities\n",
        "for number in even:\n",
        "    if number in odd:\n",
        "        print(number)"
      ],
      "execution_count": 85,
      "outputs": []
    },
    {
      "cell_type": "code",
      "metadata": {
        "colab": {
          "base_uri": "https://localhost:8080/"
        },
        "id": "meAVaGQcaIKq",
        "outputId": "e23ddd8c-652b-4f7c-ee27-4cec2c24aa36"
      },
      "source": [
        "#Intersection/Similarities\n",
        "def intersection(list1, list2):\n",
        "    intersect = [number for number in list1 if number in list2]\n",
        "    return intersect\n",
        "print (number)"
      ],
      "execution_count": 87,
      "outputs": [
        {
          "output_type": "stream",
          "text": [
            "20\n"
          ],
          "name": "stdout"
        }
      ]
    },
    {
      "cell_type": "code",
      "metadata": {
        "colab": {
          "base_uri": "https://localhost:8080/"
        },
        "id": "jfUy6BxaaIKq",
        "outputId": "dba0b4a1-a1c0-4657-a562-e5e6326e7192"
      },
      "source": [
        "even_and_odd = intersection(even, odd)\n",
        "even_and_odd"
      ],
      "execution_count": 89,
      "outputs": [
        {
          "output_type": "execute_result",
          "data": {
            "text/plain": [
              "[]"
            ]
          },
          "metadata": {
            "tags": []
          },
          "execution_count": 89
        }
      ]
    },
    {
      "cell_type": "code",
      "metadata": {
        "colab": {
          "base_uri": "https://localhost:8080/"
        },
        "id": "U8co1k0QaIKq",
        "outputId": "9fcaa887-6288-402d-a2cc-8f3bd8207d52"
      },
      "source": [
        "for number in even:\n",
        "    if number not in odd:\n",
        "        print(number)"
      ],
      "execution_count": 90,
      "outputs": [
        {
          "output_type": "stream",
          "text": [
            "2\n",
            "4\n",
            "6\n",
            "8\n",
            "10\n",
            "12\n",
            "14\n",
            "16\n",
            "18\n",
            "20\n"
          ],
          "name": "stdout"
        }
      ]
    },
    {
      "cell_type": "code",
      "metadata": {
        "id": "NYoPGD_saIKr"
      },
      "source": [
        "def subtraction(list1, list2):\n",
        "    less  =[number for number in list1 if number not in list2]\n",
        "    return less"
      ],
      "execution_count": 91,
      "outputs": []
    },
    {
      "cell_type": "code",
      "metadata": {
        "colab": {
          "base_uri": "https://localhost:8080/"
        },
        "id": "_Krgx4n9aIKr",
        "outputId": "96b63e77-72eb-4f31-a380-b5f430385b8c"
      },
      "source": [
        "even_less_odd = subtraction(even, odd)\n",
        "even_less_odd"
      ],
      "execution_count": 92,
      "outputs": [
        {
          "output_type": "execute_result",
          "data": {
            "text/plain": [
              "[2, 4, 6, 8, 10, 12, 14, 16, 18, 20]"
            ]
          },
          "metadata": {
            "tags": []
          },
          "execution_count": 92
        }
      ]
    },
    {
      "cell_type": "code",
      "metadata": {
        "colab": {
          "base_uri": "https://localhost:8080/"
        },
        "id": "bDd1XAPhaIKr",
        "outputId": "310847fd-7825-45af-b6d0-bf225f735f43"
      },
      "source": [
        "#Union/Merge\n",
        "merge = even + odd\n",
        "merge.sort()\n",
        "merge"
      ],
      "execution_count": 93,
      "outputs": [
        {
          "output_type": "execute_result",
          "data": {
            "text/plain": [
              "[1, 2, 3, 4, 5, 6, 7, 8, 9, 10, 11, 12, 13, 14, 15, 16, 17, 18, 19, 20]"
            ]
          },
          "metadata": {
            "tags": []
          },
          "execution_count": 93
        }
      ]
    },
    {
      "cell_type": "code",
      "metadata": {
        "colab": {
          "base_uri": "https://localhost:8080/"
        },
        "id": "wW-elIXzaIKr",
        "outputId": "88c1914d-458e-4185-ca08-63faebcbe861"
      },
      "source": [
        "merge_with_no_repeat = intersection(even, odd) + subtraction(even, odd) + subtraction(even, odd)\n",
        "merge_with_no_repeat.sort()\n",
        "merge_with_no_repeat"
      ],
      "execution_count": 96,
      "outputs": [
        {
          "output_type": "execute_result",
          "data": {
            "text/plain": [
              "[2, 2, 4, 4, 6, 6, 8, 8, 10, 10, 12, 12, 14, 14, 16, 16, 18, 18, 20, 20]"
            ]
          },
          "metadata": {
            "tags": []
          },
          "execution_count": 96
        }
      ]
    },
    {
      "cell_type": "code",
      "metadata": {
        "colab": {
          "base_uri": "https://localhost:8080/"
        },
        "id": "ck6kwDimaIKr",
        "outputId": "2cce65e8-ea22-405e-84d4-beba8acf4152"
      },
      "source": [
        "merge_with_no_repeat = list(set(even).union(set(odd)))\n",
        "merge_with_no_repeat"
      ],
      "execution_count": 95,
      "outputs": [
        {
          "output_type": "execute_result",
          "data": {
            "text/plain": [
              "[1, 2, 3, 4, 5, 6, 7, 8, 9, 10, 11, 12, 13, 14, 15, 16, 17, 18, 19, 20]"
            ]
          },
          "metadata": {
            "tags": []
          },
          "execution_count": 95
        }
      ]
    },
    {
      "cell_type": "code",
      "metadata": {
        "id": "gYJ2zp8vaIKr"
      },
      "source": [
        "def union(list1, list2, repetition=False):\n",
        "    if repetition:\n",
        "        pass\n",
        "    else:\n",
        "        pass\n",
        "    return None"
      ],
      "execution_count": 97,
      "outputs": []
    },
    {
      "cell_type": "code",
      "metadata": {
        "id": "BmLIdtKYaIKr"
      },
      "source": [
        "evenunionodd = union(even, odd)"
      ],
      "execution_count": 100,
      "outputs": []
    },
    {
      "cell_type": "markdown",
      "metadata": {
        "id": "cUBBdUwfaIKr"
      },
      "source": [
        "## Scratch Area: My Fandoms"
      ]
    },
    {
      "cell_type": "markdown",
      "metadata": {
        "id": "zzavvEi1aIKr"
      },
      "source": [
        "You can use the area below to try your own code."
      ]
    },
    {
      "cell_type": "code",
      "metadata": {
        "id": "SBfuMKZbaIKr"
      },
      "source": [
        "Sports = [\"Basketball\",\"Badminton\",\"Soccer\",\"Volleyball\",\"Golf\"]\n",
        "Exercises = [\"Jogging\",\"Cycling\",\"Walking\",\"Running\",\"Jump and Jack\"]"
      ],
      "execution_count": 101,
      "outputs": []
    },
    {
      "cell_type": "code",
      "metadata": {
        "colab": {
          "base_uri": "https://localhost:8080/"
        },
        "id": "Xt09MmVIaIKr",
        "outputId": "168e211e-ac27-40ee-e2fc-6286e8095935"
      },
      "source": [
        "HunionI = Sports + Exercises\n",
        "HunionI.sort()\n",
        "HunionI"
      ],
      "execution_count": 102,
      "outputs": [
        {
          "output_type": "execute_result",
          "data": {
            "text/plain": [
              "['Badminton',\n",
              " 'Basketball',\n",
              " 'Cycling',\n",
              " 'Golf',\n",
              " 'Jogging',\n",
              " 'Jump and Jack',\n",
              " 'Running',\n",
              " 'Soccer',\n",
              " 'Volleyball',\n",
              " 'Walking']"
            ]
          },
          "metadata": {
            "tags": []
          },
          "execution_count": 102
        }
      ]
    },
    {
      "cell_type": "code",
      "metadata": {
        "id": "pBXH-XoHaIKr"
      },
      "source": [
        ""
      ],
      "execution_count": null,
      "outputs": []
    }
  ]
}